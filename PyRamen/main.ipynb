{
 "cells": [
  {
   "cell_type": "code",
   "execution_count": 202,
   "metadata": {},
   "outputs": [],
   "source": [
    "#set path for data load and report file\r\n",
    "menuCSVPath=Path.cwd()/'Resources'/'menu_data.csv'\r\n",
    "salesCSVPath=Path.cwd()/'Resources'/'sales_data.csv'\r\n",
    "txtfilePath=Path.cwd()/'report.txt'"
   ]
  },
  {
   "cell_type": "code",
   "execution_count": 143,
   "metadata": {},
   "outputs": [],
   "source": [
    "menu_df=pd.read_csv(menuCSVPath)\r\n",
    "sales_df=pd.read_csv(salesCSVPath)\r\n",
    "menu=[]\r\n",
    "sales=[]"
   ]
  },
  {
   "cell_type": "code",
   "execution_count": 170,
   "metadata": {},
   "outputs": [],
   "source": [
    "#use Csvreader to load menu data into list\r\n",
    "with open(menuCSVPath,'r') as csvfile:\r\n",
    "    \r\n",
    "    csvreader=csv.reader(csvfile,delimiter=',')\r\n",
    "    \r\n",
    "    next(csvreader)\r\n",
    "    \r\n",
    "    for row in csvreader:\r\n",
    "        item=row[0]\r\n",
    "        category=row[1]\r\n",
    "        description=row[2]\r\n",
    "        price=float(row[3])\r\n",
    "        cost=int(row[4])\r\n",
    "        menu.append([item,category,description,price,cost])\r\n",
    "        \r\n",
    "    "
   ]
  },
  {
   "cell_type": "code",
   "execution_count": 171,
   "metadata": {},
   "outputs": [],
   "source": [
    "#use csvreader to load sales data into list\r\n",
    "with open(salesCSVPath,'r') as csvfile:\r\n",
    "    \r\n",
    "    csvreader=csv.reader(csvfile,delimiter=',')\r\n",
    "    \r\n",
    "    next(csvreader)\r\n",
    "    \r\n",
    "    for row in csvreader:\r\n",
    "        Line_Item_ID=int(row[0])\r\n",
    "        Date=row[1]\r\n",
    "        Credit_Card_Number=int(row[2])\r\n",
    "        Quantity=int(row[3])\r\n",
    "        Menu_item=row[4]\r\n",
    "        sales.append([Line_Item_ID,Date,Credit_Card_Number,Quantity,Menu_item])"
   ]
  },
  {
   "cell_type": "code",
   "execution_count": 199,
   "metadata": {},
   "outputs": [],
   "source": [
    "#Initialize an empty report dictionary to hold the future aggregated per-product results.\r\n",
    "report={}\r\n",
    "record_count=0\r\n",
    "\r\n",
    "#loop through sales list and populate report dictionary with initial values\r\n",
    "for sale in sales:\r\n",
    "    \r\n",
    "    #for each row of sales set data to their own variables:\r\n",
    "    quantity=sale[3]\r\n",
    "    menu_item=sale[4]\r\n",
    "    \r\n",
    "    #check if initial key value pairs exists, otherwise populate dictionary with new data\r\n",
    "    if menu_item not in report.keys():\r\n",
    "        report[menu_item]={\r\n",
    "            \"01-count\": 0,\r\n",
    "            \"02-revenue\": 0,\r\n",
    "            \"03-cogs\": 0,\r\n",
    "            \"04-profit\": 0\r\n",
    "            }\r\n",
    " \r\n",
    "    \r\n",
    "    #create nested loop by looping through every record in menu\r\n",
    "    #create new variable and set it to each menu data\r\n",
    "    \r\n",
    "    for items in menu:\r\n",
    "        \r\n",
    "        item=items[0]\r\n",
    "        price=items[3]\r\n",
    "        cost=items[4]\r\n",
    "        \r\n",
    "        #calculate profit\r\n",
    "        profit=price-cost\r\n",
    "        \r\n",
    "        #if menu item is equal to the item in sales list\r\n",
    "        #calcule cumulative sums for report metrics\r\n",
    "        if menu_item ==item:\r\n",
    "            report[menu_item][\"01-count\"] += quantity\r\n",
    "            report[menu_item][\"02-revenue\"] += price * quantity\r\n",
    "            report[menu_item][\"03-cogs\"] += cost * quantity\r\n",
    "            report[menu_item][\"04-profit\"] += profit * quantity\r\n",
    "        #or else print that the items are not matching\r\n",
    "        else:\r\n",
    "            print(f'{menu_item} does not equal {item}! NO MATCH!\".')\r\n",
    "\r\n",
    "            \r\n",
    "            \r\n",
    "        \r\n",
    "        \r\n",
    "    \r\n",
    "\r\n",
    "        "
   ]
  },
  {
   "cell_type": "code",
   "execution_count": 203,
   "metadata": {},
   "outputs": [],
   "source": [
    "#write data into text file\r\n",
    "with open(txtfilePath, \"w\") as txt_file:\r\n",
    "    for key, value in report.items():\r\n",
    "\r\n",
    "        line = f\"{key} {value}\\n\"\r\n",
    "        txt_file.write(line)\r\n",
    "\r\n",
    "\r\n",
    "#print dictionnary\r\n",
    "print(report)"
   ]
  }
 ],
 "metadata": {
  "kernelspec": {
   "display_name": "Python 3",
   "language": "python",
   "name": "python3"
  },
  "language_info": {
   "codemirror_mode": {
    "name": "ipython",
    "version": 3
   },
   "file_extension": ".py",
   "mimetype": "text/x-python",
   "name": "python",
   "nbconvert_exporter": "python",
   "pygments_lexer": "ipython3",
   "version": "3.8.8"
  }
 },
 "nbformat": 4,
 "nbformat_minor": 4
}
